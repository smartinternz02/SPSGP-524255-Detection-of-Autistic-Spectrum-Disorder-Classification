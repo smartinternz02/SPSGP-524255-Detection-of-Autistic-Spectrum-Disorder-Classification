{
  "cells": [
    {
      "attachments": {},
      "cell_type": "markdown",
      "id": "c29e6469",
      "metadata": {
        "id": "c29e6469",
        "papermill": {
          "duration": 0.073119,
          "end_time": "2021-10-30T13:03:05.728027",
          "exception": false,
          "start_time": "2021-10-30T13:03:05.654908",
          "status": "completed"
        },
        "tags": []
      },
      "source": [
        "## Importing Libraries"
      ]
    },
    {
      "cell_type": "code",
      "execution_count": null,
      "id": "4bc1d722",
      "metadata": {
        "_cell_guid": "b1076dfc-b9ad-4769-8c92-a6c4dae69d19",
        "_uuid": "8f2839f25d086af736a60e9eeb907d3b93b6e0e5",
        "execution": {
          "iopub.execute_input": "2021-10-30T13:03:05.865005Z",
          "iopub.status.busy": "2021-10-30T13:03:05.864036Z",
          "iopub.status.idle": "2021-10-30T13:03:14.466962Z",
          "shell.execute_reply": "2021-10-30T13:03:14.466226Z",
          "shell.execute_reply.started": "2021-10-30T12:05:19.881897Z"
        },
        "id": "4bc1d722",
        "papermill": {
          "duration": 8.680438,
          "end_time": "2021-10-30T13:03:14.467124",
          "exception": false,
          "start_time": "2021-10-30T13:03:05.786686",
          "status": "completed"
        },
        "tags": []
      },
      "outputs": [],
      "source": [
        "import numpy as np\n",
        "import pandas as pd\n",
        "import matplotlib.pyplot as plt\n",
        "import seaborn as sns\n",
        "import plotly.graph_objects as go\n",
        "import plotly.express as px\n",
        "from sklearn.model_selection import train_test_split\n",
        "from sklearn.metrics import classification_report, accuracy_score\n",
        "from tensorflow.keras.models import Sequential\n",
        "from tensorflow.keras.layers import Dense, Flatten\n",
        "from tensorflow.keras.optimizers import Adam\n",
        "from tensorflow.keras.utils import plot_model\n",
        "\n",
        "sns.set_style(\"darkgrid\")\n",
        "pd.set_option(\"display.max_columns\", None) # setting to display all columns\n",
        "pd.options.plotting.backend = \"plotly\""
      ]
    },
    {
      "attachments": {},
      "cell_type": "markdown",
      "id": "ddb6028e",
      "metadata": {
        "id": "ddb6028e",
        "papermill": {
          "duration": 0.059127,
          "end_time": "2021-10-30T13:03:14.646992",
          "exception": false,
          "start_time": "2021-10-30T13:03:14.587865",
          "status": "completed"
        },
        "tags": []
      },
      "source": [
        "## Reading Data"
      ]
    },
    {
      "cell_type": "code",
      "execution_count": null,
      "id": "637f0061",
      "metadata": {
        "execution": {
          "iopub.execute_input": "2021-10-30T13:03:14.769651Z",
          "iopub.status.busy": "2021-10-30T13:03:14.768657Z",
          "iopub.status.idle": "2021-10-30T13:03:14.815413Z",
          "shell.execute_reply": "2021-10-30T13:03:14.814757Z",
          "shell.execute_reply.started": "2021-10-30T12:05:36.796076Z"
        },
        "id": "637f0061",
        "papermill": {
          "duration": 0.108872,
          "end_time": "2021-10-30T13:03:14.815574",
          "exception": false,
          "start_time": "2021-10-30T13:03:14.706702",
          "status": "completed"
        },
        "tags": []
      },
      "outputs": [],
      "source": [
        "df = pd.read_csv(\"Autism_Data.csv\")\n",
        "df.head()"
      ]
    },
    {
      "attachments": {},
      "cell_type": "markdown",
      "id": "cf711629",
      "metadata": {
        "id": "cf711629",
        "papermill": {
          "duration": 0.060236,
          "end_time": "2021-10-30T13:03:14.935732",
          "exception": false,
          "start_time": "2021-10-30T13:03:14.875496",
          "status": "completed"
        },
        "tags": []
      },
      "source": [
        "## Features Description\n",
        "\n",
        "|Feature | Description\n",
        "|------|------------\n",
        "| index | The participant’s ID number\n",
        "|AX_Score|Score based on the Autism Spectrum Quotient (AQ) 10 item screening tool [AQ-10](https://docs.autismresearchcentre.com/tests/AQ10.pdf)\n",
        "|age|Age in years\n",
        "|gender| Male or Female\n",
        "|ethnicity|Ethnicities in text form\n",
        "|jaundice|Whether or not the participant was born with jaundice?\n",
        "|autism|Whether or not anyone in tbe immediate family has been diagnosed with autism?\n",
        "|country_of_res|Countries in text format\n",
        "|used_app_before|Whether the participant has used a screening app\n",
        "|result|Score from the AQ-10 screening tool\n",
        "|age_desc|Age as categorical\n",
        "|relation|Relation of person who completed the test\n",
        "|Class/ASD|Participant classification\n"
      ]
    },
    {
      "attachments": {},
      "cell_type": "markdown",
      "id": "2dddb71c",
      "metadata": {
        "id": "2dddb71c",
        "papermill": {
          "duration": 0.060342,
          "end_time": "2021-10-30T13:03:15.178607",
          "exception": false,
          "start_time": "2021-10-30T13:03:15.118265",
          "status": "completed"
        },
        "tags": []
      },
      "source": [
        "## Meta information of dataframe"
      ]
    },
    {
      "cell_type": "code",
      "execution_count": null,
      "id": "2fe67731",
      "metadata": {
        "execution": {
          "iopub.execute_input": "2021-10-30T13:03:15.424001Z",
          "iopub.status.busy": "2021-10-30T13:03:15.423310Z",
          "iopub.status.idle": "2021-10-30T13:03:15.425752Z",
          "shell.execute_reply": "2021-10-30T13:03:15.426252Z",
          "shell.execute_reply.started": "2021-10-30T12:05:46.324379Z"
        },
        "id": "2fe67731",
        "papermill": {
          "duration": 0.068129,
          "end_time": "2021-10-30T13:03:15.426453",
          "exception": false,
          "start_time": "2021-10-30T13:03:15.358324",
          "status": "completed"
        },
        "tags": []
      },
      "outputs": [],
      "source": [
        "print(f'Shape of dataframe is: {df.shape}')"
      ]
    },
    {
      "cell_type": "code",
      "execution_count": null,
      "id": "9129c9dc",
      "metadata": {
        "execution": {
          "iopub.execute_input": "2021-10-30T13:03:15.675950Z",
          "iopub.status.busy": "2021-10-30T13:03:15.675217Z",
          "iopub.status.idle": "2021-10-30T13:03:15.680936Z",
          "shell.execute_reply": "2021-10-30T13:03:15.681457Z",
          "shell.execute_reply.started": "2021-10-30T12:06:05.75959Z"
        },
        "id": "9129c9dc",
        "papermill": {
          "duration": 0.074557,
          "end_time": "2021-10-30T13:03:15.681629",
          "exception": false,
          "start_time": "2021-10-30T13:03:15.607072",
          "status": "completed"
        },
        "tags": []
      },
      "outputs": [],
      "source": [
        "pd.DataFrame(df.dtypes, columns = [\"Data Type\"])"
      ]
    },
    {
      "attachments": {},
      "cell_type": "markdown",
      "id": "bcc2fcec",
      "metadata": {
        "id": "bcc2fcec",
        "papermill": {
          "duration": 0.061545,
          "end_time": "2021-10-30T13:03:15.806813",
          "exception": false,
          "start_time": "2021-10-30T13:03:15.745268",
          "status": "completed"
        },
        "tags": []
      },
      "source": [
        "## Statistical information of data"
      ]
    },
    {
      "cell_type": "code",
      "execution_count": null,
      "id": "1c1e3b72",
      "metadata": {
        "execution": {
          "iopub.execute_input": "2021-10-30T13:03:15.932385Z",
          "iopub.status.busy": "2021-10-30T13:03:15.931711Z",
          "iopub.status.idle": "2021-10-30T13:03:15.985780Z",
          "shell.execute_reply": "2021-10-30T13:03:15.986259Z",
          "shell.execute_reply.started": "2021-10-30T12:06:16.909791Z"
        },
        "id": "1c1e3b72",
        "papermill": {
          "duration": 0.118816,
          "end_time": "2021-10-30T13:03:15.986454",
          "exception": false,
          "start_time": "2021-10-30T13:03:15.867638",
          "status": "completed"
        },
        "tags": []
      },
      "outputs": [],
      "source": [
        "df.describe()"
      ]
    },
    {
      "attachments": {},
      "cell_type": "markdown",
      "id": "29bfa85b",
      "metadata": {
        "id": "29bfa85b",
        "papermill": {
          "duration": 0.062534,
          "end_time": "2021-10-30T13:03:16.112703",
          "exception": false,
          "start_time": "2021-10-30T13:03:16.050169",
          "status": "completed"
        },
        "tags": []
      },
      "source": [
        "## Checking for NaN values"
      ]
    },
    {
      "cell_type": "code",
      "execution_count": null,
      "id": "f1fc41dd",
      "metadata": {
        "execution": {
          "iopub.execute_input": "2021-10-30T13:03:16.240488Z",
          "iopub.status.busy": "2021-10-30T13:03:16.239488Z",
          "iopub.status.idle": "2021-10-30T13:03:16.320483Z",
          "shell.execute_reply": "2021-10-30T13:03:16.321027Z",
          "shell.execute_reply.started": "2021-10-30T12:06:39.010464Z"
        },
        "id": "f1fc41dd",
        "papermill": {
          "duration": 0.14655,
          "end_time": "2021-10-30T13:03:16.321204",
          "exception": false,
          "start_time": "2021-10-30T13:03:16.174654",
          "status": "completed"
        },
        "tags": []
      },
      "outputs": [],
      "source": [
        "pd.DataFrame(df.isnull().sum(), columns=[\"Missing Values\"]).style.bar(color = \"#84A9AC\")"
      ]
    },
    {
      "attachments": {},
      "cell_type": "markdown",
      "id": "1fa7a6db",
      "metadata": {
        "id": "1fa7a6db",
        "papermill": {
          "duration": 0.064613,
          "end_time": "2021-10-30T13:03:16.448045",
          "exception": false,
          "start_time": "2021-10-30T13:03:16.383432",
          "status": "completed"
        },
        "tags": []
      },
      "source": [
        "**Only `age` feature has 2 missing values**"
      ]
    },
    {
      "cell_type": "code",
      "execution_count": null,
      "id": "4fac5a3d",
      "metadata": {
        "execution": {
          "iopub.execute_input": "2021-10-30T13:03:16.577639Z",
          "iopub.status.busy": "2021-10-30T13:03:16.576605Z",
          "iopub.status.idle": "2021-10-30T13:03:16.583620Z",
          "shell.execute_reply": "2021-10-30T13:03:16.584377Z",
          "shell.execute_reply.started": "2021-10-30T12:06:49.541675Z"
        },
        "id": "4fac5a3d",
        "papermill": {
          "duration": 0.073715,
          "end_time": "2021-10-30T13:03:16.584630",
          "exception": false,
          "start_time": "2021-10-30T13:03:16.510915",
          "status": "completed"
        },
        "tags": []
      },
      "outputs": [],
      "source": [
        "print(f\"Maximum age is data: {df['age'].max()}\\n\")\n",
        "\n",
        "print(f\"Minimum age is data: {df['age'].min()}\")"
      ]
    },
    {
      "attachments": {},
      "cell_type": "markdown",
      "id": "6c784985",
      "metadata": {
        "id": "6c784985",
        "papermill": {
          "duration": 0.079071,
          "end_time": "2021-10-30T13:03:16.737587",
          "exception": false,
          "start_time": "2021-10-30T13:03:16.658516",
          "status": "completed"
        },
        "tags": []
      },
      "source": [
        "**383 age is outlier so dropping it**"
      ]
    },
    {
      "attachments": {},
      "cell_type": "markdown",
      "id": "9270665b",
      "metadata": {
        "id": "9270665b",
        "papermill": {
          "duration": 0.062072,
          "end_time": "2021-10-30T13:03:16.863394",
          "exception": false,
          "start_time": "2021-10-30T13:03:16.801322",
          "status": "completed"
        },
        "tags": []
      },
      "source": [
        "**Record which has maximum value in Age**"
      ]
    },
    {
      "cell_type": "code",
      "execution_count": null,
      "id": "7785c408",
      "metadata": {
        "execution": {
          "iopub.execute_input": "2021-10-30T13:03:17.009313Z",
          "iopub.status.busy": "2021-10-30T13:03:17.008430Z",
          "iopub.status.idle": "2021-10-30T13:03:17.012467Z",
          "shell.execute_reply": "2021-10-30T13:03:17.011906Z",
          "shell.execute_reply.started": "2021-10-30T12:06:55.625128Z"
        },
        "id": "7785c408",
        "papermill": {
          "duration": 0.085123,
          "end_time": "2021-10-30T13:03:17.012623",
          "exception": false,
          "start_time": "2021-10-30T13:03:16.927500",
          "status": "completed"
        },
        "tags": []
      },
      "outputs": [],
      "source": [
        "df[df['age'] == df['age'].max()]"
      ]
    },
    {
      "cell_type": "code",
      "execution_count": null,
      "id": "6fb11353",
      "metadata": {
        "execution": {
          "iopub.execute_input": "2021-10-30T13:03:17.147031Z",
          "iopub.status.busy": "2021-10-30T13:03:17.145528Z",
          "iopub.status.idle": "2021-10-30T13:03:17.149329Z",
          "shell.execute_reply": "2021-10-30T13:03:17.149847Z",
          "shell.execute_reply.started": "2021-10-30T12:06:59.644051Z"
        },
        "id": "6fb11353",
        "papermill": {
          "duration": 0.073416,
          "end_time": "2021-10-30T13:03:17.150028",
          "exception": false,
          "start_time": "2021-10-30T13:03:17.076612",
          "status": "completed"
        },
        "tags": []
      },
      "outputs": [],
      "source": [
        "# dropping record number 52\n",
        "df.drop(index = 52, inplace = True)\n",
        "\n",
        "# resetting index\n",
        "df.reset_index(inplace = True)"
      ]
    },
    {
      "attachments": {},
      "cell_type": "markdown",
      "id": "a4726d86",
      "metadata": {
        "id": "a4726d86",
        "papermill": {
          "duration": 0.063818,
          "end_time": "2021-10-30T13:03:17.277476",
          "exception": false,
          "start_time": "2021-10-30T13:03:17.213658",
          "status": "completed"
        },
        "tags": []
      },
      "source": [
        "## Imputing NaN values in age with mean of age"
      ]
    },
    {
      "cell_type": "code",
      "execution_count": null,
      "id": "ab2023c3",
      "metadata": {
        "execution": {
          "iopub.execute_input": "2021-10-30T13:03:17.412552Z",
          "iopub.status.busy": "2021-10-30T13:03:17.411770Z",
          "iopub.status.idle": "2021-10-30T13:03:17.415032Z",
          "shell.execute_reply": "2021-10-30T13:03:17.414495Z",
          "shell.execute_reply.started": "2021-10-30T12:07:03.692258Z"
        },
        "id": "ab2023c3",
        "papermill": {
          "duration": 0.072618,
          "end_time": "2021-10-30T13:03:17.415181",
          "exception": false,
          "start_time": "2021-10-30T13:03:17.342563",
          "status": "completed"
        },
        "tags": []
      },
      "outputs": [],
      "source": [
        "df.replace('?', np.nan, inplace=True)\n",
        "df['age'] = df['age'].astype(float)\n",
        "\n",
        "df['age'] = df['age'].fillna(np.round(df['age'].mean(), 0))\n",
        "df['age'] = df['age'].astype(int)"
      ]
    },
    {
      "cell_type": "code",
      "execution_count": null,
      "id": "67618694",
      "metadata": {
        "execution": {
          "iopub.execute_input": "2021-10-30T13:03:17.556813Z",
          "iopub.status.busy": "2021-10-30T13:03:17.556130Z",
          "iopub.status.idle": "2021-10-30T13:03:17.559430Z",
          "shell.execute_reply": "2021-10-30T13:03:17.558804Z",
          "shell.execute_reply.started": "2021-10-30T12:07:05.349974Z"
        },
        "id": "67618694",
        "papermill": {
          "duration": 0.078681,
          "end_time": "2021-10-30T13:03:17.559566",
          "exception": false,
          "start_time": "2021-10-30T13:03:17.480885",
          "status": "completed"
        },
        "tags": []
      },
      "outputs": [],
      "source": [
        "pd.DataFrame(df.isnull().sum(), columns=[\"Missing Values\"])"
      ]
    },
    {
      "attachments": {},
      "cell_type": "markdown",
      "id": "b0c5005a",
      "metadata": {
        "id": "b0c5005a",
        "papermill": {
          "duration": 0.063486,
          "end_time": "2021-10-30T13:03:17.686934",
          "exception": false,
          "start_time": "2021-10-30T13:03:17.623448",
          "status": "completed"
        },
        "tags": []
      },
      "source": [
        "**Missing values are now imputed**"
      ]
    },
    {
      "attachments": {},
      "cell_type": "markdown",
      "id": "73674f5d",
      "metadata": {
        "id": "73674f5d",
        "papermill": {
          "duration": 0.064114,
          "end_time": "2021-10-30T13:03:17.814671",
          "exception": false,
          "start_time": "2021-10-30T13:03:17.750557",
          "status": "completed"
        },
        "tags": []
      },
      "source": [
        "### Checking unique values in Categorical feature"
      ]
    },
    {
      "cell_type": "code",
      "execution_count": null,
      "id": "e2ef11f7",
      "metadata": {
        "execution": {
          "iopub.execute_input": "2021-10-30T13:03:17.954047Z",
          "iopub.status.busy": "2021-10-30T13:03:17.953303Z",
          "iopub.status.idle": "2021-10-30T13:03:17.960746Z",
          "shell.execute_reply": "2021-10-30T13:03:17.960174Z",
          "shell.execute_reply.started": "2021-10-30T12:07:15.142031Z"
        },
        "id": "e2ef11f7",
        "papermill": {
          "duration": 0.081942,
          "end_time": "2021-10-30T13:03:17.960908",
          "exception": false,
          "start_time": "2021-10-30T13:03:17.878966",
          "status": "completed"
        },
        "tags": []
      },
      "outputs": [],
      "source": [
        "for col in df.select_dtypes('O').columns:\n",
        "    print(\"-------------------------------\")\n",
        "    print(f'Column name: {col}\\n')\n",
        "    print(f'Unique values:\\n{df[col].unique()}\\n\\n')"
      ]
    },
    {
      "attachments": {},
      "cell_type": "markdown",
      "id": "1e417566",
      "metadata": {
        "id": "1e417566",
        "papermill": {
          "duration": 0.064797,
          "end_time": "2021-10-30T13:03:18.090712",
          "exception": false,
          "start_time": "2021-10-30T13:03:18.025915",
          "status": "completed"
        },
        "tags": []
      },
      "source": [
        "**`ethnicity` and `relation` contains some invalid values**"
      ]
    },
    {
      "attachments": {},
      "cell_type": "markdown",
      "id": "95d2d9f3",
      "metadata": {
        "id": "95d2d9f3",
        "papermill": {
          "duration": 0.064163,
          "end_time": "2021-10-30T13:03:18.219276",
          "exception": false,
          "start_time": "2021-10-30T13:03:18.155113",
          "status": "completed"
        },
        "tags": []
      },
      "source": [
        "### Replacing invalid value in ethnicity"
      ]
    },
    {
      "cell_type": "code",
      "execution_count": null,
      "id": "9b192f5a",
      "metadata": {
        "execution": {
          "iopub.execute_input": "2021-10-30T13:03:18.353396Z",
          "iopub.status.busy": "2021-10-30T13:03:18.352733Z",
          "iopub.status.idle": "2021-10-30T13:03:18.355677Z",
          "shell.execute_reply": "2021-10-30T13:03:18.355155Z",
          "shell.execute_reply.started": "2021-10-30T12:07:22.679303Z"
        },
        "id": "9b192f5a",
        "papermill": {
          "duration": 0.07283,
          "end_time": "2021-10-30T13:03:18.355819",
          "exception": false,
          "start_time": "2021-10-30T13:03:18.282989",
          "status": "completed"
        },
        "tags": []
      },
      "outputs": [],
      "source": [
        "df['ethnicity'] = df['ethnicity'].replace('?', 'Others')"
      ]
    },
    {
      "attachments": {},
      "cell_type": "markdown",
      "id": "1646e56e",
      "metadata": {
        "id": "1646e56e",
        "papermill": {
          "duration": 0.067139,
          "end_time": "2021-10-30T13:03:18.490384",
          "exception": false,
          "start_time": "2021-10-30T13:03:18.423245",
          "status": "completed"
        },
        "tags": []
      },
      "source": [
        "**In `ethnicity` feature, \"Others\" and \"others\" are same thing but it is considered different because one is in small case and other is in letter case. So fixing this.**"
      ]
    },
    {
      "cell_type": "code",
      "execution_count": null,
      "id": "134bab36",
      "metadata": {
        "execution": {
          "iopub.execute_input": "2021-10-30T13:03:18.624457Z",
          "iopub.status.busy": "2021-10-30T13:03:18.623731Z",
          "iopub.status.idle": "2021-10-30T13:03:18.626623Z",
          "shell.execute_reply": "2021-10-30T13:03:18.626058Z",
          "shell.execute_reply.started": "2021-10-30T12:07:25.70995Z"
        },
        "id": "134bab36",
        "papermill": {
          "duration": 0.07277,
          "end_time": "2021-10-30T13:03:18.626768",
          "exception": false,
          "start_time": "2021-10-30T13:03:18.553998",
          "status": "completed"
        },
        "tags": []
      },
      "outputs": [],
      "source": [
        "df['ethnicity'] = df['ethnicity'].replace('others', 'Others')"
      ]
    },
    {
      "attachments": {},
      "cell_type": "markdown",
      "id": "984301e7",
      "metadata": {
        "id": "984301e7",
        "papermill": {
          "duration": 0.064806,
          "end_time": "2021-10-30T13:03:18.755719",
          "exception": false,
          "start_time": "2021-10-30T13:03:18.690913",
          "status": "completed"
        },
        "tags": []
      },
      "source": [
        "**Checking unique values in `ethnicity` after fixing problems**"
      ]
    },
    {
      "cell_type": "code",
      "execution_count": null,
      "id": "5bb9c229",
      "metadata": {
        "execution": {
          "iopub.execute_input": "2021-10-30T13:03:18.891169Z",
          "iopub.status.busy": "2021-10-30T13:03:18.890462Z",
          "iopub.status.idle": "2021-10-30T13:03:18.893982Z",
          "shell.execute_reply": "2021-10-30T13:03:18.893312Z",
          "shell.execute_reply.started": "2021-10-30T12:07:29.501804Z"
        },
        "id": "5bb9c229",
        "papermill": {
          "duration": 0.073585,
          "end_time": "2021-10-30T13:03:18.894122",
          "exception": false,
          "start_time": "2021-10-30T13:03:18.820537",
          "status": "completed"
        },
        "tags": []
      },
      "outputs": [],
      "source": [
        "df['ethnicity'].unique()"
      ]
    },
    {
      "attachments": {},
      "cell_type": "markdown",
      "id": "b670ae3c",
      "metadata": {
        "id": "b670ae3c",
        "papermill": {
          "duration": 0.064541,
          "end_time": "2021-10-30T13:03:19.023885",
          "exception": false,
          "start_time": "2021-10-30T13:03:18.959344",
          "status": "completed"
        },
        "tags": []
      },
      "source": [
        "### Replacing invalid value in relation"
      ]
    },
    {
      "attachments": {},
      "cell_type": "markdown",
      "id": "6406a3b9",
      "metadata": {
        "id": "6406a3b9",
        "papermill": {
          "duration": 0.065084,
          "end_time": "2021-10-30T13:03:19.154264",
          "exception": false,
          "start_time": "2021-10-30T13:03:19.089180",
          "status": "completed"
        },
        "tags": []
      },
      "source": [
        "**Replacing `?` in `relation` with mode of relation**"
      ]
    },
    {
      "cell_type": "code",
      "execution_count": null,
      "id": "43521736",
      "metadata": {
        "execution": {
          "iopub.execute_input": "2021-10-30T13:03:19.290672Z",
          "iopub.status.busy": "2021-10-30T13:03:19.289971Z",
          "iopub.status.idle": "2021-10-30T13:03:19.293055Z",
          "shell.execute_reply": "2021-10-30T13:03:19.292540Z",
          "shell.execute_reply.started": "2021-10-30T12:07:33.290115Z"
        },
        "id": "43521736",
        "papermill": {
          "duration": 0.074209,
          "end_time": "2021-10-30T13:03:19.293209",
          "exception": false,
          "start_time": "2021-10-30T13:03:19.219000",
          "status": "completed"
        },
        "tags": []
      },
      "outputs": [],
      "source": [
        "df['relation'] = df['relation'].replace('?', df['relation'].mode()[0])"
      ]
    },
    {
      "attachments": {},
      "cell_type": "markdown",
      "id": "4560fb4e",
      "metadata": {
        "id": "4560fb4e",
        "papermill": {
          "duration": 0.063638,
          "end_time": "2021-10-30T13:03:19.421403",
          "exception": false,
          "start_time": "2021-10-30T13:03:19.357765",
          "status": "completed"
        },
        "tags": []
      },
      "source": [
        "**Checking unique values in `relation` after fixing problems**"
      ]
    },
    {
      "cell_type": "code",
      "execution_count": null,
      "id": "c124e574",
      "metadata": {
        "execution": {
          "iopub.execute_input": "2021-10-30T13:03:19.557805Z",
          "iopub.status.busy": "2021-10-30T13:03:19.557079Z",
          "iopub.status.idle": "2021-10-30T13:03:19.561641Z",
          "shell.execute_reply": "2021-10-30T13:03:19.560997Z",
          "shell.execute_reply.started": "2021-10-30T12:07:34.908428Z"
        },
        "id": "c124e574",
        "papermill": {
          "duration": 0.073305,
          "end_time": "2021-10-30T13:03:19.561783",
          "exception": false,
          "start_time": "2021-10-30T13:03:19.488478",
          "status": "completed"
        },
        "tags": []
      },
      "outputs": [],
      "source": [
        "df['relation'].unique()"
      ]
    },
    {
      "attachments": {},
      "cell_type": "markdown",
      "id": "7314edfb",
      "metadata": {
        "id": "7314edfb",
        "papermill": {
          "duration": 0.066735,
          "end_time": "2021-10-30T13:03:19.693759",
          "exception": false,
          "start_time": "2021-10-30T13:03:19.627024",
          "status": "completed"
        },
        "tags": []
      },
      "source": [
        "## Visualization"
      ]
    },
    {
      "attachments": {},
      "cell_type": "markdown",
      "id": "bcee589a",
      "metadata": {
        "id": "bcee589a",
        "papermill": {
          "duration": 0.065277,
          "end_time": "2021-10-30T13:03:19.823917",
          "exception": false,
          "start_time": "2021-10-30T13:03:19.758640",
          "status": "completed"
        },
        "tags": []
      },
      "source": [
        "### Counts of Males to Females in dataset"
      ]
    },
    {
      "cell_type": "code",
      "execution_count": null,
      "id": "f41fdd29",
      "metadata": {
        "execution": {
          "iopub.execute_input": "2021-10-30T13:03:19.961754Z",
          "iopub.status.busy": "2021-10-30T13:03:19.960833Z",
          "iopub.status.idle": "2021-10-30T13:03:21.072045Z",
          "shell.execute_reply": "2021-10-30T13:03:21.071474Z",
          "shell.execute_reply.started": "2021-10-30T12:12:20.675605Z"
        },
        "id": "f41fdd29",
        "papermill": {
          "duration": 1.183395,
          "end_time": "2021-10-30T13:03:21.072207",
          "exception": false,
          "start_time": "2021-10-30T13:03:19.888812",
          "status": "completed"
        },
        "tags": []
      },
      "outputs": [],
      "source": [
        "fig = px.histogram(df, x=\"gender\",\n",
        "                   template='plotly_dark',\n",
        "                   color_discrete_sequence = [\"#84A9AC\"])\n",
        "\n",
        "fig.update_layout(title = \"<b>Counts of Male and Female</b>\",\n",
        "                  title_x = 0.5,\n",
        "                  title_font = dict(size = 20),\n",
        "                  uniformtext_minsize = 15)\n",
        "\n",
        "fig.show()"
      ]
    },
    {
      "cell_type": "code",
      "execution_count": null,
      "id": "44b48e57",
      "metadata": {
        "execution": {
          "iopub.execute_input": "2021-10-30T13:03:21.218394Z",
          "iopub.status.busy": "2021-10-30T13:03:21.217554Z",
          "iopub.status.idle": "2021-10-30T13:03:21.300405Z",
          "shell.execute_reply": "2021-10-30T13:03:21.299842Z",
          "shell.execute_reply.started": "2021-10-30T12:17:44.150648Z"
        },
        "id": "44b48e57",
        "papermill": {
          "duration": 0.161484,
          "end_time": "2021-10-30T13:03:21.300565",
          "exception": false,
          "start_time": "2021-10-30T13:03:21.139081",
          "status": "completed"
        },
        "tags": []
      },
      "outputs": [],
      "source": [
        "fig = px.pie(df, names = \"gender\",\n",
        "             title = \"<b>Counts of Male and Female</b>\",\n",
        "             hole = 0.5, template = \"plotly_dark\")\n",
        "\n",
        "fig.update_traces(textposition='inside',\n",
        "                  textinfo='percent+label',\n",
        "                  marker=dict(line=dict(color='#000000', width = 1.5)))\n",
        "\n",
        "fig.update_layout(title_x = 0.5,\n",
        "                  title_font = dict(size = 20),\n",
        "                  uniformtext_minsize = 15)\n",
        "\n",
        "fig.show()"
      ]
    },
    {
      "attachments": {},
      "cell_type": "markdown",
      "id": "f4032f16",
      "metadata": {
        "id": "f4032f16",
        "papermill": {
          "duration": 0.068897,
          "end_time": "2021-10-30T13:03:21.437932",
          "exception": false,
          "start_time": "2021-10-30T13:03:21.369035",
          "status": "completed"
        },
        "tags": []
      },
      "source": [
        "### Autism Spectrum Disorder Counts"
      ]
    },
    {
      "cell_type": "code",
      "execution_count": null,
      "id": "c0d26ab9",
      "metadata": {
        "execution": {
          "iopub.execute_input": "2021-10-30T13:03:21.576788Z",
          "iopub.status.busy": "2021-10-30T13:03:21.576052Z",
          "iopub.status.idle": "2021-10-30T13:03:21.582045Z",
          "shell.execute_reply": "2021-10-30T13:03:21.582605Z",
          "shell.execute_reply.started": "2021-10-30T12:17:56.754418Z"
        },
        "id": "c0d26ab9",
        "papermill": {
          "duration": 0.076761,
          "end_time": "2021-10-30T13:03:21.582775",
          "exception": false,
          "start_time": "2021-10-30T13:03:21.506014",
          "status": "completed"
        },
        "tags": []
      },
      "outputs": [],
      "source": [
        "df['Class/ASD'].value_counts()"
      ]
    },
    {
      "cell_type": "code",
      "execution_count": null,
      "id": "932dc4c6",
      "metadata": {
        "execution": {
          "iopub.execute_input": "2021-10-30T13:03:21.727691Z",
          "iopub.status.busy": "2021-10-30T13:03:21.726858Z",
          "iopub.status.idle": "2021-10-30T13:03:21.782828Z",
          "shell.execute_reply": "2021-10-30T13:03:21.783720Z",
          "shell.execute_reply.started": "2021-10-30T12:18:32.276624Z"
        },
        "id": "932dc4c6",
        "papermill": {
          "duration": 0.133602,
          "end_time": "2021-10-30T13:03:21.783926",
          "exception": false,
          "start_time": "2021-10-30T13:03:21.650324",
          "status": "completed"
        },
        "tags": []
      },
      "outputs": [],
      "source": [
        "fig = px.pie(df, names = \"Class/ASD\",\n",
        "             title = \"<b>Autism Spectrum Disorder Counts</b>\",\n",
        "             template = \"plotly_dark\")\n",
        "\n",
        "fig.update_traces(textposition='inside',\n",
        "                  textinfo = 'percent+label',\n",
        "                  marker = dict(line = dict(color = '#000000', width = 1.5)))\n",
        "\n",
        "fig.update_layout(title_x = 0.5,\n",
        "                  title_font = dict(size = 20),\n",
        "                  uniformtext_minsize = 15)\n",
        "\n",
        "\n",
        "fig.show()"
      ]
    },
    {
      "attachments": {},
      "cell_type": "markdown",
      "id": "abb639bf",
      "metadata": {
        "id": "abb639bf",
        "papermill": {
          "duration": 0.067654,
          "end_time": "2021-10-30T13:03:21.919976",
          "exception": false,
          "start_time": "2021-10-30T13:03:21.852322",
          "status": "completed"
        },
        "tags": []
      },
      "source": [
        "**27% people are ASD patient in dataset**"
      ]
    },
    {
      "attachments": {},
      "cell_type": "markdown",
      "id": "61301dbd",
      "metadata": {
        "id": "61301dbd",
        "papermill": {
          "duration": 0.067702,
          "end_time": "2021-10-30T13:03:22.057263",
          "exception": false,
          "start_time": "2021-10-30T13:03:21.989561",
          "status": "completed"
        },
        "tags": []
      },
      "source": [
        "### Average age of males and females"
      ]
    },
    {
      "cell_type": "code",
      "execution_count": null,
      "id": "6b4f9ab3",
      "metadata": {
        "execution": {
          "iopub.execute_input": "2021-10-30T13:03:22.198465Z",
          "iopub.status.busy": "2021-10-30T13:03:22.197758Z",
          "iopub.status.idle": "2021-10-30T13:03:22.398847Z",
          "shell.execute_reply": "2021-10-30T13:03:22.399415Z",
          "shell.execute_reply.started": "2021-10-30T12:25:14.71093Z"
        },
        "id": "6b4f9ab3",
        "papermill": {
          "duration": 0.273455,
          "end_time": "2021-10-30T13:03:22.399602",
          "exception": false,
          "start_time": "2021-10-30T13:03:22.126147",
          "status": "completed"
        },
        "tags": []
      },
      "outputs": [],
      "source": [
        "fig = df.groupby('gender').agg({'age':'mean'}).plot(kind='bar',\n",
        "                                                    template = \"seaborn\",\n",
        "                                                    labels = {\"gender\":\"Gender\",\n",
        "                                                              \"value\":\"Age\"},\n",
        "                                                    color_discrete_sequence = [\"#84b1b5\"]);\n",
        "\n",
        "fig.update_layout(title = \"<b>Average Age</b>\\n\",\n",
        "                  title_font = dict(size = 20),)\n",
        "\n",
        "\n",
        "fig.show()"
      ]
    },
    {
      "attachments": {},
      "cell_type": "markdown",
      "id": "8c4919b9",
      "metadata": {
        "id": "8c4919b9",
        "papermill": {
          "duration": 0.069841,
          "end_time": "2021-10-30T13:03:22.538916",
          "exception": false,
          "start_time": "2021-10-30T13:03:22.469075",
          "status": "completed"
        },
        "tags": []
      },
      "source": [
        "### Gender Counts of ASD Patients"
      ]
    },
    {
      "cell_type": "code",
      "execution_count": null,
      "id": "133b5c34",
      "metadata": {
        "execution": {
          "iopub.execute_input": "2021-10-30T13:03:22.682798Z",
          "iopub.status.busy": "2021-10-30T13:03:22.681739Z",
          "iopub.status.idle": "2021-10-30T13:03:22.765872Z",
          "shell.execute_reply": "2021-10-30T13:03:22.766484Z",
          "shell.execute_reply.started": "2021-10-30T12:26:03.163153Z"
        },
        "id": "133b5c34",
        "papermill": {
          "duration": 0.158047,
          "end_time": "2021-10-30T13:03:22.766668",
          "exception": false,
          "start_time": "2021-10-30T13:03:22.608621",
          "status": "completed"
        },
        "tags": []
      },
      "outputs": [],
      "source": [
        "fig = df[df['Class/ASD'] == \"YES\"]['gender'].value_counts().plot(kind = 'bar',\n",
        "                                                                 template = \"seaborn\",\n",
        "                                                                 color_discrete_sequence = [\"#84b1b5\"],\n",
        "                                                                 labels = {\"index\":\"Gender\",\n",
        "                                                                          \"value\":\"Counts\"});\n",
        "\n",
        "fig.update_layout(title = \"<b>Gender Count of ASD Patients</b>\\n\",\n",
        "                  title_font = dict(size = 20), width = 900)\n",
        "\n",
        "fig.show()"
      ]
    },
    {
      "attachments": {},
      "cell_type": "markdown",
      "id": "5682266b",
      "metadata": {
        "id": "5682266b",
        "papermill": {
          "duration": 0.069541,
          "end_time": "2021-10-30T13:03:22.908115",
          "exception": false,
          "start_time": "2021-10-30T13:03:22.838574",
          "status": "completed"
        },
        "tags": []
      },
      "source": [
        "### Counts of ASD Patients Country Wise"
      ]
    },
    {
      "cell_type": "code",
      "execution_count": null,
      "id": "a7eeb31f",
      "metadata": {
        "execution": {
          "iopub.execute_input": "2021-10-30T13:03:23.055937Z",
          "iopub.status.busy": "2021-10-30T13:03:23.054851Z",
          "iopub.status.idle": "2021-10-30T13:03:23.062546Z",
          "shell.execute_reply": "2021-10-30T13:03:23.063134Z",
          "shell.execute_reply.started": "2021-10-30T12:26:35.364009Z"
        },
        "id": "a7eeb31f",
        "papermill": {
          "duration": 0.083254,
          "end_time": "2021-10-30T13:03:23.063312",
          "exception": false,
          "start_time": "2021-10-30T13:03:22.980058",
          "status": "completed"
        },
        "tags": []
      },
      "outputs": [],
      "source": [
        "asd_patients_country_wise = pd.DataFrame(df[df['Class/ASD'] == \"YES\"]['contry_of_res'].value_counts()).rename({\"contry_of_res\":\"ASD_Patient_Counts\"}, axis = 1)"
      ]
    },
    {
      "cell_type": "code",
      "execution_count": null,
      "id": "2b4ca8c9",
      "metadata": {
        "execution": {
          "iopub.execute_input": "2021-10-30T13:03:23.206785Z",
          "iopub.status.busy": "2021-10-30T13:03:23.205797Z",
          "iopub.status.idle": "2021-10-30T13:03:23.220445Z",
          "shell.execute_reply": "2021-10-30T13:03:23.220954Z",
          "shell.execute_reply.started": "2021-10-30T12:27:05.89362Z"
        },
        "id": "2b4ca8c9",
        "papermill": {
          "duration": 0.087929,
          "end_time": "2021-10-30T13:03:23.221142",
          "exception": false,
          "start_time": "2021-10-30T13:03:23.133213",
          "status": "completed"
        },
        "tags": []
      },
      "outputs": [],
      "source": [
        "asd_patients_country_wise.style.bar(color=\"#84A9AC\")"
      ]
    },
    {
      "cell_type": "code",
      "execution_count": null,
      "id": "b870486a",
      "metadata": {
        "execution": {
          "iopub.execute_input": "2021-10-30T13:03:23.366682Z",
          "iopub.status.busy": "2021-10-30T13:03:23.365653Z",
          "iopub.status.idle": "2021-10-30T13:03:23.371612Z",
          "shell.execute_reply": "2021-10-30T13:03:23.372222Z",
          "shell.execute_reply.started": "2021-10-30T12:27:15.003487Z"
        },
        "id": "b870486a",
        "papermill": {
          "duration": 0.08059,
          "end_time": "2021-10-30T13:03:23.372407",
          "exception": false,
          "start_time": "2021-10-30T13:03:23.291817",
          "status": "completed"
        },
        "tags": []
      },
      "outputs": [],
      "source": [
        "asd_patients_country_wise.index"
      ]
    },
    {
      "cell_type": "code",
      "execution_count": null,
      "id": "03169983",
      "metadata": {
        "execution": {
          "iopub.execute_input": "2021-10-30T13:03:23.521124Z",
          "iopub.status.busy": "2021-10-30T13:03:23.520110Z",
          "iopub.status.idle": "2021-10-30T13:03:23.592730Z",
          "shell.execute_reply": "2021-10-30T13:03:23.593309Z",
          "shell.execute_reply.started": "2021-10-30T12:27:28.566181Z"
        },
        "id": "03169983",
        "papermill": {
          "duration": 0.149478,
          "end_time": "2021-10-30T13:03:23.593534",
          "exception": false,
          "start_time": "2021-10-30T13:03:23.444056",
          "status": "completed"
        },
        "tags": []
      },
      "outputs": [],
      "source": [
        "fig = px.bar(data_frame = asd_patients_country_wise,\n",
        "             x = asd_patients_country_wise.index,\n",
        "             y = \"ASD_Patient_Counts\",\n",
        "             labels = {\"index\" : \"Country\"},\n",
        "             color_discrete_sequence = px.colors.qualitative.D3_r,\n",
        "             template='plotly_dark')\n",
        "\n",
        "fig.update_xaxes(tickangle = 310)\n",
        "\n",
        "fig.update_layout(title={\n",
        "        'text': \"<b>Counts of ASD Patients Country Wise</b>\",\n",
        "        'y':0.93,\n",
        "        'x':0.5,\n",
        "        'xanchor': 'center',\n",
        "        'yanchor': 'top'})\n",
        "\n",
        "fig.show()\n"
      ]
    },
    {
      "cell_type": "code",
      "execution_count": null,
      "id": "339d5fa4",
      "metadata": {
        "execution": {
          "iopub.execute_input": "2021-10-30T13:03:23.743789Z",
          "iopub.status.busy": "2021-10-30T13:03:23.742522Z",
          "iopub.status.idle": "2021-10-30T13:03:23.786662Z",
          "shell.execute_reply": "2021-10-30T13:03:23.786103Z",
          "shell.execute_reply.started": "2021-10-30T12:28:04.520278Z"
        },
        "id": "339d5fa4",
        "papermill": {
          "duration": 0.119359,
          "end_time": "2021-10-30T13:03:23.786809",
          "exception": false,
          "start_time": "2021-10-30T13:03:23.667450",
          "status": "completed"
        },
        "tags": []
      },
      "outputs": [],
      "source": [
        "label = asd_patients_country_wise.index\n",
        "value = asd_patients_country_wise['ASD_Patient_Counts']\n",
        "\n",
        "fig = go.Figure(data=[go.Pie(labels = label,\n",
        "                             values = value,\n",
        "                             rotation = 90)])\n",
        "\n",
        "fig.update_traces(textposition = 'inside',\n",
        "                  textinfo = 'percent+label',\n",
        "                  marker = dict(line = dict(color = '#000000', width = 1.5)))\n",
        "\n",
        "fig.update_layout(title_text='<b>Country Wise Counts of ASD Patients</b>',\n",
        "                  title_x = 0.5,\n",
        "                  title_font = dict(size = 20),\n",
        "                  uniformtext_minsize = 15,\n",
        "                  template='plotly_dark')\n",
        "\n",
        "fig.show()"
      ]
    },
    {
      "attachments": {},
      "cell_type": "markdown",
      "id": "6b5563df",
      "metadata": {
        "id": "6b5563df",
        "papermill": {
          "duration": 0.073247,
          "end_time": "2021-10-30T13:03:23.933725",
          "exception": false,
          "start_time": "2021-10-30T13:03:23.860478",
          "status": "completed"
        },
        "tags": []
      },
      "source": [
        "## Preprocessing data for Classification model"
      ]
    },
    {
      "attachments": {},
      "cell_type": "markdown",
      "id": "6a8dd3c6",
      "metadata": {
        "id": "6a8dd3c6",
        "papermill": {
          "duration": 0.073387,
          "end_time": "2021-10-30T13:03:24.080031",
          "exception": false,
          "start_time": "2021-10-30T13:03:24.006644",
          "status": "completed"
        },
        "tags": []
      },
      "source": [
        "### Dropping Unwanted columns"
      ]
    },
    {
      "cell_type": "code",
      "execution_count": null,
      "id": "e030acad",
      "metadata": {
        "execution": {
          "iopub.execute_input": "2021-10-30T13:03:24.230259Z",
          "iopub.status.busy": "2021-10-30T13:03:24.229211Z",
          "iopub.status.idle": "2021-10-30T13:03:24.234652Z",
          "shell.execute_reply": "2021-10-30T13:03:24.235218Z",
          "shell.execute_reply.started": "2021-10-30T12:28:16.829418Z"
        },
        "id": "e030acad",
        "papermill": {
          "duration": 0.082622,
          "end_time": "2021-10-30T13:03:24.235423",
          "exception": false,
          "start_time": "2021-10-30T13:03:24.152801",
          "status": "completed"
        },
        "tags": []
      },
      "outputs": [],
      "source": [
        "df.drop(['index','age_desc', \"contry_of_res\"], axis = 1, inplace = True)"
      ]
    },
    {
      "attachments": {},
      "cell_type": "markdown",
      "id": "9057fe85",
      "metadata": {
        "id": "9057fe85",
        "papermill": {
          "duration": 0.072971,
          "end_time": "2021-10-30T13:03:24.381052",
          "exception": false,
          "start_time": "2021-10-30T13:03:24.308081",
          "status": "completed"
        },
        "tags": []
      },
      "source": [
        "### Splitting data in X and Y"
      ]
    },
    {
      "cell_type": "code",
      "execution_count": null,
      "id": "5945ca61",
      "metadata": {
        "execution": {
          "iopub.execute_input": "2021-10-30T13:03:24.531024Z",
          "iopub.status.busy": "2021-10-30T13:03:24.530297Z",
          "iopub.status.idle": "2021-10-30T13:03:24.535193Z",
          "shell.execute_reply": "2021-10-30T13:03:24.535763Z",
          "shell.execute_reply.started": "2021-10-30T12:28:44.362881Z"
        },
        "id": "5945ca61",
        "papermill": {
          "duration": 0.081535,
          "end_time": "2021-10-30T13:03:24.535936",
          "exception": false,
          "start_time": "2021-10-30T13:03:24.454401",
          "status": "completed"
        },
        "tags": []
      },
      "outputs": [],
      "source": [
        "X = df.drop(\"Class/ASD\", axis = 1)# select all other feature except \"Class/ASD\" for training\n",
        "Y = df['Class/ASD']"
      ]
    },
    {
      "attachments": {},
      "cell_type": "markdown",
      "id": "c8ca1fef",
      "metadata": {
        "id": "c8ca1fef",
        "papermill": {
          "duration": 0.08666,
          "end_time": "2021-10-30T13:03:24.695289",
          "exception": false,
          "start_time": "2021-10-30T13:03:24.608629",
          "status": "completed"
        },
        "tags": []
      },
      "source": [
        "### OneHotEncoding of Categorical features"
      ]
    },
    {
      "cell_type": "code",
      "execution_count": 51,
      "id": "f99acca2",
      "metadata": {
        "execution": {
          "iopub.execute_input": "2021-10-30T13:03:24.898750Z",
          "iopub.status.busy": "2021-10-30T13:03:24.897700Z",
          "iopub.status.idle": "2021-10-30T13:03:24.911137Z",
          "shell.execute_reply": "2021-10-30T13:03:24.911737Z",
          "shell.execute_reply.started": "2021-10-30T12:28:50.315045Z"
        },
        "id": "f99acca2",
        "papermill": {
          "duration": 0.104591,
          "end_time": "2021-10-30T13:03:24.911920",
          "exception": false,
          "start_time": "2021-10-30T13:03:24.807329",
          "status": "completed"
        },
        "tags": []
      },
      "outputs": [],
      "source": [
        "X = pd.get_dummies(X)\n",
        "Y = pd.get_dummies(Y)"
      ]
    },
    {
      "attachments": {},
      "cell_type": "markdown",
      "id": "6404ceb8",
      "metadata": {
        "id": "6404ceb8",
        "papermill": {
          "duration": 0.075202,
          "end_time": "2021-10-30T13:03:25.064282",
          "exception": false,
          "start_time": "2021-10-30T13:03:24.989080",
          "status": "completed"
        },
        "tags": []
      },
      "source": [
        "### Splitting data in train and test"
      ]
    },
    {
      "cell_type": "code",
      "execution_count": null,
      "id": "ed64df41",
      "metadata": {
        "execution": {
          "iopub.execute_input": "2021-10-30T13:03:25.218716Z",
          "iopub.status.busy": "2021-10-30T13:03:25.217664Z",
          "iopub.status.idle": "2021-10-30T13:03:25.225798Z",
          "shell.execute_reply": "2021-10-30T13:03:25.226439Z",
          "shell.execute_reply.started": "2021-10-30T12:28:56.24294Z"
        },
        "id": "ed64df41",
        "papermill": {
          "duration": 0.087439,
          "end_time": "2021-10-30T13:03:25.226639",
          "exception": false,
          "start_time": "2021-10-30T13:03:25.139200",
          "status": "completed"
        },
        "tags": []
      },
      "outputs": [],
      "source": [
        "X_train, X_test, Y_train, Y_test = train_test_split(X, Y, test_size = 0.25)"
      ]
    },
    {
      "cell_type": "code",
      "execution_count": null,
      "id": "e39cb033",
      "metadata": {
        "execution": {
          "iopub.execute_input": "2021-10-30T13:03:25.379340Z",
          "iopub.status.busy": "2021-10-30T13:03:25.378294Z",
          "iopub.status.idle": "2021-10-30T13:03:25.386090Z",
          "shell.execute_reply": "2021-10-30T13:03:25.385012Z",
          "shell.execute_reply.started": "2021-10-30T12:28:59.23209Z"
        },
        "id": "e39cb033",
        "papermill": {
          "duration": 0.085514,
          "end_time": "2021-10-30T13:03:25.386311",
          "exception": false,
          "start_time": "2021-10-30T13:03:25.300797",
          "status": "completed"
        },
        "tags": []
      },
      "outputs": [],
      "source": [
        "print(f\"Shape of X_train is: {X_train.shape}\")\n",
        "print(f\"Shape of Y_train is: {Y_train.shape}\\n\")\n",
        "print(f\"Shape of X_test is: {X_test.shape}\")\n",
        "print(f\"Shape of Y_test is: {Y_test.shape}\")"
      ]
    },
    {
      "attachments": {},
      "cell_type": "markdown",
      "id": "be0f7193",
      "metadata": {
        "id": "be0f7193",
        "papermill": {
          "duration": 0.075211,
          "end_time": "2021-10-30T13:03:25.539001",
          "exception": false,
          "start_time": "2021-10-30T13:03:25.463790",
          "status": "completed"
        },
        "tags": []
      },
      "source": [
        "## Creating ANN Model"
      ]
    },
    {
      "cell_type": "code",
      "execution_count": null,
      "id": "fd43d098",
      "metadata": {
        "execution": {
          "iopub.execute_input": "2021-10-30T13:03:25.688631Z",
          "iopub.status.busy": "2021-10-30T13:03:25.687882Z",
          "iopub.status.idle": "2021-10-30T13:03:25.691471Z",
          "shell.execute_reply": "2021-10-30T13:03:25.692039Z",
          "shell.execute_reply.started": "2021-10-30T12:29:02.938197Z"
        },
        "id": "fd43d098",
        "papermill": {
          "duration": 0.080198,
          "end_time": "2021-10-30T13:03:25.692209",
          "exception": false,
          "start_time": "2021-10-30T13:03:25.612011",
          "status": "completed"
        },
        "tags": []
      },
      "outputs": [],
      "source": [
        "input_dim = X.shape[1]"
      ]
    },
    {
      "cell_type": "code",
      "execution_count": null,
      "id": "33af6c5d",
      "metadata": {
        "_kg_hide-output": true,
        "execution": {
          "iopub.execute_input": "2021-10-30T13:03:25.842044Z",
          "iopub.status.busy": "2021-10-30T13:03:25.841274Z",
          "iopub.status.idle": "2021-10-30T13:03:25.984875Z",
          "shell.execute_reply": "2021-10-30T13:03:25.983635Z",
          "shell.execute_reply.started": "2021-10-30T12:29:05.647587Z"
        },
        "id": "33af6c5d",
        "papermill": {
          "duration": 0.218852,
          "end_time": "2021-10-30T13:03:25.985094",
          "exception": false,
          "start_time": "2021-10-30T13:03:25.766242",
          "status": "completed"
        },
        "tags": []
      },
      "outputs": [],
      "source": [
        "model = Sequential()\n",
        "model.add(Dense(8, input_dim = input_dim, kernel_initializer='normal', activation='relu'))\n",
        "model.add(Dense(5, activation = \"relu\", kernel_initializer='normal'))\n",
        "model.add(Dense(2, activation = 'sigmoid'))"
      ]
    },
    {
      "attachments": {},
      "cell_type": "markdown",
      "id": "26eba894",
      "metadata": {
        "id": "26eba894",
        "papermill": {
          "duration": 0.074169,
          "end_time": "2021-10-30T13:03:26.133374",
          "exception": false,
          "start_time": "2021-10-30T13:03:26.059205",
          "status": "completed"
        },
        "tags": []
      },
      "source": [
        "### Compiling Model"
      ]
    },
    {
      "cell_type": "code",
      "execution_count": null,
      "id": "7373a27e",
      "metadata": {
        "execution": {
          "iopub.execute_input": "2021-10-30T13:03:26.283648Z",
          "iopub.status.busy": "2021-10-30T13:03:26.282842Z",
          "iopub.status.idle": "2021-10-30T13:03:26.295339Z",
          "shell.execute_reply": "2021-10-30T13:03:26.295920Z",
          "shell.execute_reply.started": "2021-10-30T12:29:11.251833Z"
        },
        "id": "7373a27e",
        "papermill": {
          "duration": 0.089219,
          "end_time": "2021-10-30T13:03:26.296150",
          "exception": false,
          "start_time": "2021-10-30T13:03:26.206931",
          "status": "completed"
        },
        "tags": []
      },
      "outputs": [],
      "source": [
        "# compiling model\n",
        "model.compile(optimizer = Adam(learning_rate = 0.001),\n",
        "              loss = 'binary_crossentropy',\n",
        "              metrics = ['accuracy'])"
      ]
    },
    {
      "attachments": {},
      "cell_type": "markdown",
      "id": "13ba2d8b",
      "metadata": {
        "id": "13ba2d8b",
        "papermill": {
          "duration": 0.072602,
          "end_time": "2021-10-30T13:03:26.441908",
          "exception": false,
          "start_time": "2021-10-30T13:03:26.369306",
          "status": "completed"
        },
        "tags": []
      },
      "source": [
        "### Checking summary of Model"
      ]
    },
    {
      "cell_type": "code",
      "execution_count": null,
      "id": "7a73c81e",
      "metadata": {
        "execution": {
          "iopub.execute_input": "2021-10-30T13:03:26.592026Z",
          "iopub.status.busy": "2021-10-30T13:03:26.591300Z",
          "iopub.status.idle": "2021-10-30T13:03:26.599465Z",
          "shell.execute_reply": "2021-10-30T13:03:26.600087Z",
          "shell.execute_reply.started": "2021-10-30T12:29:14.754273Z"
        },
        "id": "7a73c81e",
        "papermill": {
          "duration": 0.085526,
          "end_time": "2021-10-30T13:03:26.600269",
          "exception": false,
          "start_time": "2021-10-30T13:03:26.514743",
          "status": "completed"
        },
        "tags": []
      },
      "outputs": [],
      "source": [
        "model.summary()"
      ]
    },
    {
      "attachments": {},
      "cell_type": "markdown",
      "id": "8912da57",
      "metadata": {
        "id": "8912da57",
        "papermill": {
          "duration": 0.072767,
          "end_time": "2021-10-30T13:03:26.747679",
          "exception": false,
          "start_time": "2021-10-30T13:03:26.674912",
          "status": "completed"
        },
        "tags": []
      },
      "source": [
        "### Visualizing Model Layers"
      ]
    },
    {
      "cell_type": "code",
      "execution_count": null,
      "id": "1eb27962",
      "metadata": {
        "execution": {
          "iopub.execute_input": "2021-10-30T13:03:26.899009Z",
          "iopub.status.busy": "2021-10-30T13:03:26.898175Z",
          "iopub.status.idle": "2021-10-30T13:03:27.946151Z",
          "shell.execute_reply": "2021-10-30T13:03:27.945250Z",
          "shell.execute_reply.started": "2021-10-30T12:29:19.193291Z"
        },
        "id": "1eb27962",
        "papermill": {
          "duration": 1.125009,
          "end_time": "2021-10-30T13:03:27.946301",
          "exception": false,
          "start_time": "2021-10-30T13:03:26.821292",
          "status": "completed"
        },
        "tags": []
      },
      "outputs": [],
      "source": [
        "plot_model(model,\n",
        "           show_dtype = True,\n",
        "           show_layer_names = True,\n",
        "           show_shapes = True)"
      ]
    },
    {
      "attachments": {},
      "cell_type": "markdown",
      "id": "0a612943",
      "metadata": {
        "id": "0a612943",
        "papermill": {
          "duration": 0.075308,
          "end_time": "2021-10-30T13:03:28.096854",
          "exception": false,
          "start_time": "2021-10-30T13:03:28.021546",
          "status": "completed"
        },
        "tags": []
      },
      "source": [
        "### Training Model"
      ]
    },
    {
      "cell_type": "code",
      "execution_count": null,
      "id": "5ee5da86",
      "metadata": {
        "execution": {
          "iopub.execute_input": "2021-10-30T13:03:28.250398Z",
          "iopub.status.busy": "2021-10-30T13:03:28.249707Z",
          "iopub.status.idle": "2021-10-30T13:03:31.614379Z",
          "shell.execute_reply": "2021-10-30T13:03:31.614956Z",
          "shell.execute_reply.started": "2021-10-30T12:29:24.634449Z"
        },
        "id": "5ee5da86",
        "papermill": {
          "duration": 3.443567,
          "end_time": "2021-10-30T13:03:31.615157",
          "exception": false,
          "start_time": "2021-10-30T13:03:28.171590",
          "status": "completed"
        },
        "tags": []
      },
      "outputs": [],
      "source": [
        "result = model.fit(X_train, Y_train, epochs = 20, batch_size = 10)"
      ]
    },
    {
      "attachments": {},
      "cell_type": "markdown",
      "id": "a41979f0",
      "metadata": {
        "id": "a41979f0",
        "papermill": {
          "duration": 0.095729,
          "end_time": "2021-10-30T13:03:31.806764",
          "exception": false,
          "start_time": "2021-10-30T13:03:31.711035",
          "status": "completed"
        },
        "tags": []
      },
      "source": [
        "## Visualize Model Accuracy & Loss"
      ]
    },
    {
      "cell_type": "code",
      "execution_count": null,
      "id": "65314771",
      "metadata": {
        "execution": {
          "iopub.execute_input": "2021-10-30T13:03:32.001389Z",
          "iopub.status.busy": "2021-10-30T13:03:32.000632Z",
          "iopub.status.idle": "2021-10-30T13:03:32.004951Z",
          "shell.execute_reply": "2021-10-30T13:03:32.005523Z",
          "shell.execute_reply.started": "2021-10-30T12:29:36.210416Z"
        },
        "id": "65314771",
        "papermill": {
          "duration": 0.102949,
          "end_time": "2021-10-30T13:03:32.005709",
          "exception": false,
          "start_time": "2021-10-30T13:03:31.902760",
          "status": "completed"
        },
        "tags": []
      },
      "outputs": [],
      "source": [
        "acc = result.history['accuracy']\n",
        "loss = result.history['loss']\n",
        "\n",
        "epoch = [i + 1 for i in range(len(acc))]"
      ]
    },
    {
      "cell_type": "code",
      "execution_count": null,
      "id": "dac753dd",
      "metadata": {
        "execution": {
          "iopub.execute_input": "2021-10-30T13:03:32.201883Z",
          "iopub.status.busy": "2021-10-30T13:03:32.201156Z",
          "iopub.status.idle": "2021-10-30T13:03:32.218007Z",
          "shell.execute_reply": "2021-10-30T13:03:32.218565Z",
          "shell.execute_reply.started": "2021-10-30T12:30:33.496825Z"
        },
        "id": "dac753dd",
        "papermill": {
          "duration": 0.115296,
          "end_time": "2021-10-30T13:03:32.218745",
          "exception": false,
          "start_time": "2021-10-30T13:03:32.103449",
          "status": "completed"
        },
        "tags": []
      },
      "outputs": [],
      "source": [
        "acc_loss_df = pd.DataFrame({\"Accuracy\" : acc,\n",
        "                            \"Loss\" : loss,\n",
        "                            \"Epoch\" : epoch})\n",
        "\n",
        "acc_loss_df.style.bar(color = '#84A9AC',\n",
        "                      subset = ['Accuracy','Loss'])"
      ]
    },
    {
      "cell_type": "code",
      "execution_count": null,
      "id": "b722936d",
      "metadata": {
        "execution": {
          "iopub.execute_input": "2021-10-30T13:03:32.415730Z",
          "iopub.status.busy": "2021-10-30T13:03:32.415030Z",
          "iopub.status.idle": "2021-10-30T13:03:32.701769Z",
          "shell.execute_reply": "2021-10-30T13:03:32.701165Z",
          "shell.execute_reply.started": "2021-10-30T12:30:51.375234Z"
        },
        "id": "b722936d",
        "papermill": {
          "duration": 0.385975,
          "end_time": "2021-10-30T13:03:32.701937",
          "exception": false,
          "start_time": "2021-10-30T13:03:32.315962",
          "status": "completed"
        },
        "tags": []
      },
      "outputs": [],
      "source": [
        "fig = go.Figure()\n",
        "\n",
        "fig.add_trace(go.Scatter(x = acc_loss_df['Epoch'],\n",
        "                         y = acc_loss_df['Accuracy'],\n",
        "                         mode='lines+markers',\n",
        "                         name='Accuracy'))\n",
        "\n",
        "fig.add_trace(go.Scatter(x = acc_loss_df['Epoch'],\n",
        "                         y = acc_loss_df['Loss'],\n",
        "                         mode='lines+markers',\n",
        "                         name = 'Loss'))\n",
        "\n",
        "fig.update_layout(title = {'text': \"<b>Training Accuracy Vs Training Loss</b>\\n\",\n",
        "                           'xanchor': 'center',\n",
        "                           'yanchor': 'top',\n",
        "                           'y':0.9,'x':0.5,},\n",
        "                  xaxis_title=\"Epoch\",\n",
        "                  yaxis_title = \"Accuracy / Loss\",\n",
        "                  title_font = dict(size = 20))\n",
        "\n",
        "fig.layout.template = 'plotly_dark'\n",
        "\n",
        "fig.show()"
      ]
    },
    {
      "attachments": {},
      "cell_type": "markdown",
      "id": "95395dd2",
      "metadata": {
        "id": "95395dd2",
        "papermill": {
          "duration": 0.097135,
          "end_time": "2021-10-30T13:03:32.897969",
          "exception": false,
          "start_time": "2021-10-30T13:03:32.800834",
          "status": "completed"
        },
        "tags": []
      },
      "source": [
        "## Evaluating Model"
      ]
    },
    {
      "cell_type": "code",
      "execution_count": null,
      "id": "7c717939",
      "metadata": {
        "execution": {
          "iopub.execute_input": "2021-10-30T13:03:33.102028Z",
          "iopub.status.busy": "2021-10-30T13:03:33.101274Z",
          "iopub.status.idle": "2021-10-30T13:03:33.377444Z",
          "shell.execute_reply": "2021-10-30T13:03:33.377982Z",
          "shell.execute_reply.started": "2021-10-30T12:31:00.174861Z"
        },
        "id": "7c717939",
        "papermill": {
          "duration": 0.380878,
          "end_time": "2021-10-30T13:03:33.378184",
          "exception": false,
          "start_time": "2021-10-30T13:03:32.997306",
          "status": "completed"
        },
        "tags": []
      },
      "outputs": [],
      "source": [
        "loss, acc = model.evaluate(X_test, Y_test)"
      ]
    },
    {
      "cell_type": "code",
      "execution_count": null,
      "id": "68616bdb",
      "metadata": {
        "execution": {
          "iopub.execute_input": "2021-10-30T13:03:33.582295Z",
          "iopub.status.busy": "2021-10-30T13:03:33.581542Z",
          "iopub.status.idle": "2021-10-30T13:03:33.584335Z",
          "shell.execute_reply": "2021-10-30T13:03:33.584922Z",
          "shell.execute_reply.started": "2021-10-30T12:31:04.199353Z"
        },
        "id": "68616bdb",
        "papermill": {
          "duration": 0.108299,
          "end_time": "2021-10-30T13:03:33.585094",
          "exception": false,
          "start_time": "2021-10-30T13:03:33.476795",
          "status": "completed"
        },
        "tags": []
      },
      "outputs": [],
      "source": [
        "print(f\"Accuracy on unseen data is: { np.round(acc, 2) }\")\n",
        "print(f'Loss on unseen data is: { np.round(loss, 2) }')"
      ]
    },
    {
      "attachments": {},
      "cell_type": "markdown",
      "id": "ea93d4cc",
      "metadata": {
        "id": "ea93d4cc",
        "papermill": {
          "duration": 0.097807,
          "end_time": "2021-10-30T13:03:33.784015",
          "exception": false,
          "start_time": "2021-10-30T13:03:33.686208",
          "status": "completed"
        },
        "tags": []
      },
      "source": [
        "## Classification Report"
      ]
    },
    {
      "cell_type": "code",
      "execution_count": null,
      "id": "6bbacf37",
      "metadata": {
        "execution": {
          "iopub.execute_input": "2021-10-30T13:03:33.988746Z",
          "iopub.status.busy": "2021-10-30T13:03:33.988005Z",
          "iopub.status.idle": "2021-10-30T13:03:34.166684Z",
          "shell.execute_reply": "2021-10-30T13:03:34.166069Z",
          "shell.execute_reply.started": "2021-10-30T12:31:08.393604Z"
        },
        "id": "6bbacf37",
        "papermill": {
          "duration": 0.282155,
          "end_time": "2021-10-30T13:03:34.166846",
          "exception": false,
          "start_time": "2021-10-30T13:03:33.884691",
          "status": "completed"
        },
        "tags": []
      },
      "outputs": [],
      "source": [
        "prediction = model.predict(X_test)\n",
        "prediction = np.argmax(prediction, axis = 1)"
      ]
    },
    {
      "cell_type": "code",
      "execution_count": null,
      "id": "07ab4ff8",
      "metadata": {
        "execution": {
          "iopub.execute_input": "2021-10-30T13:03:34.371777Z",
          "iopub.status.busy": "2021-10-30T13:03:34.370769Z",
          "iopub.status.idle": "2021-10-30T13:03:34.377606Z",
          "shell.execute_reply": "2021-10-30T13:03:34.378159Z",
          "shell.execute_reply.started": "2021-10-30T12:31:11.165311Z"
        },
        "id": "07ab4ff8",
        "papermill": {
          "duration": 0.110605,
          "end_time": "2021-10-30T13:03:34.378337",
          "exception": false,
          "start_time": "2021-10-30T13:03:34.267732",
          "status": "completed"
        },
        "tags": []
      },
      "outputs": [],
      "source": [
        "print(accuracy_score(Y_test[['YES']], prediction))"
      ]
    },
    {
      "cell_type": "code",
      "execution_count": null,
      "id": "49a4cc26",
      "metadata": {
        "execution": {
          "iopub.execute_input": "2021-10-30T13:03:34.583075Z",
          "iopub.status.busy": "2021-10-30T13:03:34.582372Z",
          "iopub.status.idle": "2021-10-30T13:03:34.591540Z",
          "shell.execute_reply": "2021-10-30T13:03:34.590999Z",
          "shell.execute_reply.started": "2021-10-30T12:31:14.018826Z"
        },
        "id": "49a4cc26",
        "papermill": {
          "duration": 0.113312,
          "end_time": "2021-10-30T13:03:34.591686",
          "exception": false,
          "start_time": "2021-10-30T13:03:34.478374",
          "status": "completed"
        },
        "tags": []
      },
      "outputs": [],
      "source": [
        "print(classification_report(Y_test[['YES']], prediction))"
      ]
    }
  ],
  "metadata": {
    "colab": {
      "provenance": []
    },
    "kernelspec": {
      "display_name": "Python 3",
      "language": "python",
      "name": "python3"
    },
    "language_info": {
      "codemirror_mode": {
        "name": "ipython",
        "version": 3
      },
      "file_extension": ".py",
      "mimetype": "text/x-python",
      "name": "python",
      "nbconvert_exporter": "python",
      "pygments_lexer": "ipython3",
      "version": "3.7.10"
    },
    "papermill": {
      "default_parameters": {},
      "duration": 41.940872,
      "end_time": "2021-10-30T13:03:37.577069",
      "environment_variables": {},
      "exception": null,
      "input_path": "__notebook__.ipynb",
      "output_path": "__notebook__.ipynb",
      "parameters": {},
      "start_time": "2021-10-30T13:02:55.636197",
      "version": "2.3.3"
    }
  },
  "nbformat": 4,
  "nbformat_minor": 5
}
